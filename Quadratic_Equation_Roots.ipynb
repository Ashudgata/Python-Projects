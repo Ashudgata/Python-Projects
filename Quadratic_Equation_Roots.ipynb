{
  "nbformat": 4,
  "nbformat_minor": 0,
  "metadata": {
    "colab": {
      "provenance": [],
      "authorship_tag": "ABX9TyNITkmVT0yw9bgvE6TiufbU",
      "include_colab_link": true
    },
    "kernelspec": {
      "name": "python3",
      "display_name": "Python 3"
    },
    "language_info": {
      "name": "python"
    }
  },
  "cells": [
    {
      "cell_type": "markdown",
      "metadata": {
        "id": "view-in-github",
        "colab_type": "text"
      },
      "source": [
        "<a href=\"https://colab.research.google.com/github/Ashudgata/Python-Projects/blob/master/Quadratic_Equation_Roots.ipynb\" target=\"_parent\"><img src=\"https://colab.research.google.com/assets/colab-badge.svg\" alt=\"Open In Colab\"/></a>"
      ]
    },
    {
      "cell_type": "code",
      "execution_count": null,
      "metadata": {
        "colab": {
          "base_uri": "https://localhost:8080/"
        },
        "id": "b5LKL1umgjCx",
        "outputId": "26c49388-1c55-49fb-97d9-9e5368230c2f"
      },
      "outputs": [
        {
          "output_type": "stream",
          "name": "stdout",
          "text": [
            "Input a,b,c in the equation ax^2+bx+c=0\n",
            "Input value of a: 3\n",
            "Input value of b: 9\n",
            "Input value of c: 7\n",
            "This equation has no real solutions\n"
          ]
        }
      ],
      "source": [
        "#Solving ax^2+bx+c=0\n",
        "print(f'Input a,b,c in the equation ax^2+bx+c=0')\n",
        "a= float(input('Input value of a: '))\n",
        "b= float(input('Input value of b: '))\n",
        "c= float(input('Input value of c: '))\n",
        "if a==0:\n",
        "    print('This is not a quadratic equation')\n",
        "else:\n",
        "    delta = b**2-4*a*c      #delta is the discriminant\n",
        "    if delta<0:\n",
        "        print('This equation has no real solutions')\n",
        "    elif delta==0:\n",
        "        print('This equation has one solution')\n",
        "        x= -b/(2*a)\n",
        "        print(f'The solution = {x}')\n",
        "    else:\n",
        "        print('This equation has two solutions')\n",
        "        x_1= (-b-delta**0.5)/(2*a)\n",
        "        x_2= (-b+delta**0.5)/(2*a)\n",
        "        print(f'The solutions are {x_1} and {x_2}')"
      ]
    },
    {
      "cell_type": "code",
      "source": [
        "#Solving ax^2+bx+c=0\n",
        "print(f'Input a,b,c in the equation ax^2+bx+c=0')\n",
        "a= float(input('Input value of a: '))\n",
        "b= float(input('Input value of b: '))\n",
        "c= float(input('Input value of c: '))\n",
        "if a==0:\n",
        "    print('This is not a quadratic equation')\n",
        "else:\n",
        "    delta = b**2-4*a*c      #delta is the discriminant\n",
        "    if delta<0:\n",
        "        print('This equation has no real solutions')\n",
        "    elif delta==0:\n",
        "        print('This equation has one solution')\n",
        "        x= -b/(2*a)\n",
        "        print(f'The solution = {x}')\n",
        "    else:\n",
        "        print('This equation has two solutions')\n",
        "        x_1= (-b-delta**0.5)/(2*a)\n",
        "        x_2= (-b+delta**0.5)/(2*a)\n",
        "        print(f'The solutions are {x_1} and {x_2}')"
      ],
      "metadata": {
        "colab": {
          "base_uri": "https://localhost:8080/"
        },
        "id": "k07bDK-zjYMl",
        "outputId": "a270b624-52fd-415f-aced-f4d2ca3da60a"
      },
      "execution_count": null,
      "outputs": [
        {
          "output_type": "stream",
          "name": "stdout",
          "text": [
            "Input a,b,c in the equation ax^2+bx+c=0\n",
            "Input value of a: 2\n",
            "Input value of b: -11\n",
            "Input value of c: 5\n",
            "This equation has two solutions\n",
            "The solutions are 0.5 and 5.0\n"
          ]
        }
      ]
    },
    {
      "cell_type": "code",
      "source": [
        "#Optimizing the program with a function of squareroot from math\n",
        "#Solving ax^2+bx+c=0\n",
        "import math\n",
        "print(f'Input a,b,c in the equation ax^2+bx+c=0')\n",
        "a= float(input('Input value of a: '))\n",
        "b= float(input('Input value of b: '))\n",
        "c= float(input('Input value of c: '))\n",
        "if a==0:\n",
        "    print('This is not a quadratic equation')\n",
        "else:\n",
        "    delta = b**2-4*a*c      #delta is the discriminant\n",
        "    if delta<0:\n",
        "        print('This equation has no real solutions')\n",
        "    elif delta==0:\n",
        "        print('This equation has one solution')\n",
        "        x= -b/(2*a)\n",
        "        print(f'The solution = {x}')\n",
        "    else:\n",
        "        print('This equation has two solutions')\n",
        "        sqrt_delta = math.sqrt(delta)\n",
        "        x_1= (-b-sqrt_delta)/(2*a)\n",
        "        x_2= (-b+sqrt_delta)/(2*a)\n",
        "        print(f'The solutions are {x_1} and {x_2}')\n"
      ],
      "metadata": {
        "colab": {
          "base_uri": "https://localhost:8080/"
        },
        "id": "zrPJTO0Zj8HY",
        "outputId": "d96fdf51-7ae8-40b8-a7fa-d8ea6ae55bb0"
      },
      "execution_count": null,
      "outputs": [
        {
          "output_type": "stream",
          "name": "stdout",
          "text": [
            "Input a,b,c in the equation ax^2+bx+c=0\n",
            "Input value of a: 1\n",
            "Input value of b: -5\n",
            "Input value of c: 6\n",
            "This equation has two solutions\n",
            "The solutions are 2.0 and 3.0\n"
          ]
        }
      ]
    },
    {
      "cell_type": "code",
      "source": [
        "#Handling Complex Roots with cmath\n",
        "#Solving ax^2+bx+c=0\n",
        "import cmath\n",
        "print(f'Input a,b,c in the equation ax^2+bx+c=0')\n",
        "a= float(input('Input value of a: '))\n",
        "b= float(input('Input value of b: '))\n",
        "c= float(input('Input value of c: '))\n",
        "if a==0:\n",
        "    print(f'This is not a quadratic equation')\n",
        "else:\n",
        "    delta = b**2-4*a*c      #delta is the discriminant\n",
        "    sqrt_delta = cmath.sqrt(delta)\n",
        "\n",
        "    if delta<0:\n",
        "        print('This equation has complex solutions')\n",
        "        x_1= (-b-sqrt_delta)/(2*a)\n",
        "        x_2= (-b+sqrt_delta)/(2*a)\n",
        "        print('The roots are {x_1} and {x_2}')\n",
        "\n",
        "    elif delta==0:\n",
        "        print('This equation has one real solution')\n",
        "        x= -b/(2*a)\n",
        "        print(f'The root is {x}')\n",
        "    else:\n",
        "        print('This equation has two real solutions')\n",
        "        x_1= (-b-sqrt_delta)/(2*a)\n",
        "        x_2= (-b+sqrt_delta)/(2*a)\n",
        "        print(f'The solutions are {x_1} and {x_2}')\n"
      ],
      "metadata": {
        "colab": {
          "base_uri": "https://localhost:8080/"
        },
        "id": "rlDlGHQbk2Nt",
        "outputId": "a901e5ec-4bd4-4f3d-e322-4dd49b357d01"
      },
      "execution_count": null,
      "outputs": [
        {
          "output_type": "stream",
          "name": "stdout",
          "text": [
            "Input a,b,c in the equation ax^2+bx+c=0\n",
            "Input value of a: 1\n",
            "Input value of b: -6\n",
            "Input value of c: 9\n",
            "This equation has one real solution\n",
            "The root is 3.0\n"
          ]
        }
      ]
    },
    {
      "cell_type": "code",
      "source": [
        "#Handling Complex Roots with cmath\n",
        "#Solving ax^2+bx+c=0\n",
        "import cmath\n",
        "print(f'Input a,b,c in the equation ax^2+bx+c=0')\n",
        "a= float(input('Input value of a: '))\n",
        "b= float(input('Input value of b: '))\n",
        "c= float(input('Input value of c: '))\n",
        "if a==0:\n",
        "    print('This is not a quadratic equation')\n",
        "else:\n",
        "    delta = b**2-4*a*c      #delta is the discriminant\n",
        "    sqrt_delta = cmath.sqrt(delta)\n",
        "\n",
        "    if delta<0:\n",
        "        print('This equation has complex solutions')\n",
        "        x_1= (-b-sqrt_delta)/(2*a)\n",
        "        x_2= (-b+sqrt_delta)/(2*a)\n",
        "        print(f'The roots are {x_1} and {x_2}')\n",
        "\n",
        "    elif delta==0:\n",
        "        print('This equation has one real solution')\n",
        "        x= -b/(2*a)\n",
        "        print(f'The root is {x}')\n",
        "    else:\n",
        "        print('This equation has two real solutions')\n",
        "        x_1= (-b-sqrt_delta)/(2*a)\n",
        "        x_2= (-b+sqrt_delta)/(2*a)\n",
        "        print(f'The solutions are {x_1} and {x_2}')"
      ],
      "metadata": {
        "colab": {
          "base_uri": "https://localhost:8080/"
        },
        "id": "oCoLBSozp02v",
        "outputId": "f4f42940-ffa7-4982-bef2-6de132818c29"
      },
      "execution_count": null,
      "outputs": [
        {
          "output_type": "stream",
          "name": "stdout",
          "text": [
            "Input a,b,c in the equation ax^2+bx+c=0\n",
            "Input value of a: 3\n",
            "Input value of b: 9\n",
            "Input value of c: 7\n",
            "This equation has complex solutions\n",
            "The roots are (-1.5-0.28867513459481287j) and (-1.5+0.28867513459481287j)\n"
          ]
        }
      ]
    },
    {
      "cell_type": "code",
      "source": [],
      "metadata": {
        "id": "CTkjS6KRqSE9"
      },
      "execution_count": null,
      "outputs": []
    }
  ]
}